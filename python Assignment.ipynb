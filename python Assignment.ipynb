{
 "cells": [
  {
   "cell_type": "code",
   "execution_count": 2,
   "id": "1cef0e99",
   "metadata": {},
   "outputs": [
    {
     "name": "stdout",
     "output_type": "stream",
     "text": [
      "None\n",
      "None\n",
      "None\n",
      "6\n"
     ]
    }
   ],
   "source": [
    "#problem set 2\n",
    "#question 1\n",
    "a = 0\n",
    "\n",
    "def b():\n",
    "    global a\n",
    "    a = c(a)\n",
    "def c(a):\n",
    "    return a + 2\n",
    "print(b())\n",
    "print(b())\n",
    "print(b())\n",
    "print(a)"
   ]
  },
  {
   "cell_type": "code",
   "execution_count": 4,
   "id": "c4f3fa3c",
   "metadata": {},
   "outputs": [
    {
     "name": "stdout",
     "output_type": "stream",
     "text": [
      "This file cannot be found\n"
     ]
    }
   ],
   "source": [
    "#question 2\n",
    "#function fileLength(),given to you, takes the name of a file as input and returns the length of the file\n",
    "def fileLength(filename):\n",
    "    file = open(filename, 'rt')\n",
    "    content = file.read()\n",
    "    file.close()\n",
    "    print(len(content))\n",
    "#the name of the file is midterm.py but i will omit the 'm' to return the result\n",
    "try:\n",
    "    fileLength('idterm.py')\n",
    "except:\n",
    "    print(\"This file cannot be found\")\n"
   ]
  },
  {
   "cell_type": "code",
   "execution_count": 6,
   "id": "40e4c13f",
   "metadata": {},
   "outputs": [
    {
     "name": "stdout",
     "output_type": "stream",
     "text": [
      "['doll', 'firetruck', 'kitten']\n"
     ]
    }
   ],
   "source": [
    "#question 3\n",
    "#write a class named Marsupial that can be used as shown below\n",
    "class Marsupial(object):\n",
    "    def __init__(self):\n",
    "        self.list = []\n",
    "    def put_in_pouch(self, item):\n",
    "        self.list.append(item)\n",
    "    def pouch_contents(self):\n",
    "        return self.list\n",
    "\n",
    "m = Marsupial()\n",
    "m.put_in_pouch('doll')\n",
    "m.put_in_pouch('firetruck')\n",
    "m.put_in_pouch('kitten')\n",
    "print(m.pouch_contents()) "
   ]
  },
  {
   "cell_type": "code",
   "execution_count": 7,
   "id": "d70eba20",
   "metadata": {},
   "outputs": [
    {
     "name": "stdout",
     "output_type": "stream",
     "text": [
      "i am a kangaroo located at coordinates (1, 1)\n"
     ]
    }
   ],
   "source": [
    "class kangaroo(Marsupial):\n",
    "    def __init__(self, x, y):\n",
    "        Marsupial.__init__(self)\n",
    "        self.x = x\n",
    "        self.y = y \n",
    "    def jump(self, dm, dy):\n",
    "        self.dm = dm\n",
    "        self.dy = dy\n",
    "    def __str__(self):\n",
    "        return f\"i am a kangaroo located at coordinates ({self.x}, {self.y})\"\n",
    "\n",
    "k = kangaroo(1, 1)\n",
    "print(k)"
   ]
  },
  {
   "cell_type": "code",
   "execution_count": 8,
   "id": "4f6385ce",
   "metadata": {},
   "outputs": [
    {
     "name": "stdout",
     "output_type": "stream",
     "text": [
      "Give me a number: 10\n",
      "5\n",
      "16\n",
      "8\n",
      "4\n",
      "2\n",
      "1\n"
     ]
    }
   ],
   "source": [
    "#question 4\n",
    "#write functions collatz() that takes a positive integer x as input and prints the collatz sequence\n",
    "def collatz(number):\n",
    "\n",
    "    if number % 2 == 0:\n",
    "        print(number // 2)\n",
    "        return number // 2\n",
    "\n",
    "    elif number % 2 == 1:\n",
    "        result = 3 * number + 1\n",
    "        print(result)\n",
    "        return result\n",
    "\n",
    "n = input(\"Give me a number: \")\n",
    "while n != 1:\n",
    "    n = collatz(int(n))"
   ]
  },
  {
   "cell_type": "code",
   "execution_count": 9,
   "id": "40ad7da4",
   "metadata": {},
   "outputs": [
    {
     "name": "stdout",
     "output_type": "stream",
     "text": [
      "[0]\n",
      "[1]\n",
      "[1, 1]\n",
      "[1, 0, 0, 1]\n"
     ]
    }
   ],
   "source": [
    "#question 5\n",
    "#write a recursive method binary() that takes a non-negative integer n and points the binary representation of integer n\n",
    "def binary(n):\n",
    "   if n < 2:\n",
    "     return [int(n)]\n",
    "   else:\n",
    "     return binary(n / 2) + [int(n) % 2]\n",
    "\n",
    "print(binary(0))\n",
    "print(binary(1))\n",
    "print(binary(3))\n",
    "print(binary(9))"
   ]
  },
  {
   "cell_type": "code",
   "execution_count": 23,
   "id": "ae50bdd3",
   "metadata": {},
   "outputs": [
    {
     "name": "stdout",
     "output_type": "stream",
     "text": [
      "C:\\Users\\USER\\Desktop\\asss\n"
     ]
    }
   ],
   "source": [
    "#question 6\n",
    "#implement a class named HeadingParser that can be used to parse HTML document and retrieve and print all the headings\n",
    "import urllib.request\n",
    "from bs4 import BeautifulSoup\n",
    "\n",
    "url = \"C:\\\\Users\\\\USER\\\\Desktop\\\\asss\"\n",
    "print(url)"
   ]
  },
  {
   "cell_type": "code",
   "execution_count": null,
   "id": "0a3de388",
   "metadata": {},
   "outputs": [],
   "source": [
    "def webdir(url, indent, start):\n",
    "    \n",
    "    "
   ]
  },
  {
   "cell_type": "code",
   "execution_count": 24,
   "id": "758d8a6c",
   "metadata": {},
   "outputs": [
    {
     "name": "stdout",
     "output_type": "stream",
     "text": [
      "['THE', 'QUICK', 'BROWN', 'FOX', 'JUMPS', 'THE', 'LAZY', 'DOG']\n"
     ]
    }
   ],
   "source": [
    "#question 9a\n",
    "words = ['The', 'quick', 'brown', 'fox', 'jumps', 'the', 'lazy', 'dog']\n",
    "def transformupper(a):\n",
    "    return [i.upper() if i.isupper()==False else i.lower() for i in words]\n",
    "print(transformupper(words))"
   ]
  },
  {
   "cell_type": "code",
   "execution_count": 25,
   "id": "7e9c6ead",
   "metadata": {},
   "outputs": [
    {
     "name": "stdout",
     "output_type": "stream",
     "text": [
      "['the', 'quick', 'brown', 'fox', 'jumps', 'the', 'lazy', 'dog']\n"
     ]
    }
   ],
   "source": [
    "#question 9b\n",
    "words = ['The', 'quick', 'brown', 'fox', 'jumps', 'the', 'lazy', 'dog']\n",
    "def transformlower(a):\n",
    "    return [i.lower() if i.isupper()==False else i.upper() for i in words]\n",
    "print(transformlower(words))"
   ]
  },
  {
   "cell_type": "code",
   "execution_count": 27,
   "id": "43d762c0",
   "metadata": {},
   "outputs": [
    {
     "name": "stdout",
     "output_type": "stream",
     "text": [
      "[3, 5, 5, 3, 5, 3, 4, 3]\n"
     ]
    }
   ],
   "source": [
    "#question 9c\n",
    "words = ['The', 'quick', 'brown', 'fox', 'jumps', 'the', 'lazy', 'dog']\n",
    "def transformlength(a):\n",
    "    return [len(a) for a in words]\n",
    "print(transformlength(words))"
   ]
  },
  {
   "cell_type": "code",
   "execution_count": 30,
   "id": "e59efd7b",
   "metadata": {},
   "outputs": [
    {
     "name": "stdout",
     "output_type": "stream",
     "text": [
      "[('THE', 'the', 3), ('QUICK', 'quick', 5), ('BROWN', 'brown', 5), ('FOX', 'fox', 3), ('JUMPS', 'jumps', 5), ('THE', 'the', 3), ('LAZY', 'lazy', 4), ('DOG', 'dog', 3)]\n"
     ]
    }
   ],
   "source": [
    "#question 9d\n",
    "words = ['The', 'quick', 'brown', 'fox', 'jumps', 'the', 'lazy', 'dog']\n",
    "def transformall(a):\n",
    "    return [(x.upper(), x.lower(), len(x)) for x in words if len(x) >=3]\n",
    "print(transformall(words))"
   ]
  },
  {
   "cell_type": "code",
   "execution_count": 40,
   "id": "10c90f48",
   "metadata": {},
   "outputs": [
    {
     "name": "stdout",
     "output_type": "stream",
     "text": [
      "['quick', 'brown', 'jumps', 'lazy']\n"
     ]
    }
   ],
   "source": [
    "#question 9e\n",
    "words = ['The', 'quick', 'brown', 'fox', 'jumps', 'the', 'lazy', 'dog']\n",
    "def transformwords(a):\n",
    "    return [(x) for x in words if len(x) >=4]\n",
    "print(transformwords(words))"
   ]
  },
  {
   "cell_type": "code",
   "execution_count": null,
   "id": "dcf01fd5",
   "metadata": {},
   "outputs": [],
   "source": []
  }
 ],
 "metadata": {
  "kernelspec": {
   "display_name": "Python 3 (ipykernel)",
   "language": "python",
   "name": "python3"
  },
  "language_info": {
   "codemirror_mode": {
    "name": "ipython",
    "version": 3
   },
   "file_extension": ".py",
   "mimetype": "text/x-python",
   "name": "python",
   "nbconvert_exporter": "python",
   "pygments_lexer": "ipython3",
   "version": "3.10.9"
  }
 },
 "nbformat": 4,
 "nbformat_minor": 5
}
